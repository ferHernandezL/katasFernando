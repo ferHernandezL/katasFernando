{
 "cells": [
  {
   "cell_type": "markdown",
   "metadata": {},
   "source": [
    "Modulo katas 3"
   ]
  },
  {
   "cell_type": "code",
   "execution_count": 9,
   "metadata": {},
   "outputs": [
    {
     "name": "stdout",
     "output_type": "stream",
     "text": [
      "¡Advertencia! se acerca un asteroide muy rapido\n"
     ]
    }
   ],
   "source": [
    "velAsteroide = 200\n",
    "\n",
    "if velAsteroide >=25:\n",
    "    print(\"¡Advertencia! se acerca un asteroide muy rapido\")\n",
    "else:\n",
    "    print(\"sin novedad, continue con su dia\")\n"
   ]
  },
  {
   "cell_type": "code",
   "execution_count": 8,
   "metadata": {},
   "outputs": [
    {
     "name": "stdout",
     "output_type": "stream",
     "text": [
      "¡se ve un rayo de luz!\n"
     ]
    }
   ],
   "source": [
    "velAsteroide = 80\n",
    "\n",
    "if velAsteroide > 20:\n",
    "    print(\"¡se ve un rayo de luz!\")\n",
    "elif velAsteroide==20:\n",
    "    print(\"¡se ve un rayo de luz!\")\n",
    "else:\n",
    "    print(\"No se ve nada en el cielo\")"
   ]
  },
  {
   "cell_type": "code",
   "execution_count": 21,
   "metadata": {},
   "outputs": [
    {
     "name": "stdout",
     "output_type": "stream",
     "text": [
      "Advertencia un asteroide se aproxima \n"
     ]
    }
   ],
   "source": [
    "velAsteroide = 99\n",
    "tamañoAsteroide = 100\n",
    "\n",
    "if tamañoAsteroide >= 25 or velAsteroide >= 25:\n",
    "    print(\"Advertencia un asteroide se aproxima \")\n",
    "elif velAsteroide > 20:\n",
    "    print(\"se ve una luz en el cielo\")\n",
    "elif tamañoAsteroide < 25:\n",
    "    print(\"Todo en orden\") \n",
    "else : print(\"todo en orden\")\n"
   ]
  }
 ],
 "metadata": {
  "interpreter": {
   "hash": "554fd1bf87c55553db41d45cf503b12b95d600ced243726a35b3e53f66c6f63f"
  },
  "kernelspec": {
   "display_name": "Python 3.10.2 64-bit",
   "language": "python",
   "name": "python3"
  },
  "language_info": {
   "codemirror_mode": {
    "name": "ipython",
    "version": 3
   },
   "file_extension": ".py",
   "mimetype": "text/x-python",
   "name": "python",
   "nbconvert_exporter": "python",
   "pygments_lexer": "ipython3",
   "version": "3.10.2"
  },
  "orig_nbformat": 4
 },
 "nbformat": 4,
 "nbformat_minor": 2
}
