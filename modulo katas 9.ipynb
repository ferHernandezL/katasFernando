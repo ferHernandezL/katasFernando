{
 "cells": [
  {
   "cell_type": "markdown",
   "metadata": {},
   "source": [
    "## modulo katas 9"
   ]
  },
  {
   "cell_type": "code",
   "execution_count": 4,
   "metadata": {},
   "outputs": [],
   "source": [
    "def reporte_combustible(tanque1, tanque2, tanque3):\n",
    "    promedio_combustible = (tanque1 + tanque2 + tanque3)/3\n",
    "    return promedio_combustible"
   ]
  },
  {
   "cell_type": "code",
   "execution_count": 5,
   "metadata": {},
   "outputs": [
    {
     "name": "stdout",
     "output_type": "stream",
     "text": [
      "El promedio de combustible es  81.66666666666667 %\n"
     ]
    }
   ],
   "source": [
    "print(\"El promedio de combustible es \",reporte_combustible(100,80,65), \"%\")\n",
    "#se imprime el resultado"
   ]
  },
  {
   "cell_type": "code",
   "execution_count": 20,
   "metadata": {},
   "outputs": [
    {
     "name": "stdout",
     "output_type": "stream",
     "text": [
      "reporte de combustible\n",
      "    combustible del tanque 1: 100%\n",
      "    combustible del tanque 2: 80%\n",
      "    combustible del tanque 3: 65%\n",
      "    promedio de combustible: 81.66666666666667%\n",
      "    \n",
      "    \n"
     ]
    }
   ],
   "source": [
    "def promedio(valores):\n",
    "    total = sum(valores)\n",
    "    numero_elementos = len(valores)\n",
    "\n",
    "    return total / numero_elementos\n",
    "\n",
    "\n",
    "    \n",
    "## actualizamos la funcion reporte_combustible\n",
    "\n",
    "def reporte_combustible2(tanque1, tanque2, tanque3):\n",
    "    return f\"\"\"reporte de combustible\n",
    "    combustible del tanque 1: {tanque1}%\n",
    "    combustible del tanque 2: {tanque2}%\n",
    "    combustible del tanque 3: {tanque3}%\n",
    "    promedio de combustible: {promedio([tanque1, tanque2, tanque3 ])}%\n",
    "    \n",
    "    \"\"\"  \n",
    "\n",
    "print(reporte_combustible2(100, 80, 65))\n",
    "    \n",
    "    \n",
    "    \n",
    "    \n"
   ]
  },
  {
   "cell_type": "markdown",
   "metadata": {},
   "source": [
    "## ejercicio 2"
   ]
  },
  {
   "cell_type": "code",
   "execution_count": 10,
   "metadata": {},
   "outputs": [
    {
     "name": "stdout",
     "output_type": "stream",
     "text": [
      "\n",
      "        mision a: betelgeuse\n",
      "        hora de prelanzamiento: 1400\n",
      "        tiempo de vuelo: 2500 hrs.\n",
      "        tanque externo: 12000 litros\n",
      "        tanque interno: 5000 litros\n",
      "    \n",
      "    \n"
     ]
    }
   ],
   "source": [
    "def informeMision(horaPrelanzamiento, tiempoVuelo, destino, tanqueExterno, tanqueInterno ):\n",
    "    return f\"\"\"\n",
    "        mision a: {destino}\n",
    "        hora de prelanzamiento: {horaPrelanzamiento}\n",
    "        tiempo de vuelo: {tiempoVuelo} hrs.\n",
    "        tanque externo: {tanqueExterno} litros\n",
    "        tanque interno: {tanqueInterno} litros\n",
    "    \n",
    "    \"\"\"\n",
    "\n",
    "print(informeMision(1400,2500,'betelgeuse',12000,5000))"
   ]
  },
  {
   "cell_type": "markdown",
   "metadata": {},
   "source": [
    "## actualizando la funcion "
   ]
  },
  {
   "cell_type": "code",
   "execution_count": 13,
   "metadata": {},
   "outputs": [
    {
     "name": "stdout",
     "output_type": "stream",
     "text": [
      "\n",
      "        mision a: saturno\n",
      "        tiempo de viaje: 156 minutos\n",
      "        combustible: 5855555\n",
      "    \n"
     ]
    }
   ],
   "source": [
    "def informeMision(destino ,*minutos, **reservaCombustible ):\n",
    "    return f\"\"\"\n",
    "        mision a: {destino}\n",
    "        tiempo de viaje: {sum(minutos)} minutos\n",
    "        combustible: {sum(reservaCombustible.values())}\n",
    "    \"\"\"\n",
    "\n",
    "print(informeMision('saturno', 89,13,54, externo=300000, interno=5555555))"
   ]
  },
  {
   "cell_type": "code",
   "execution_count": 26,
   "metadata": {},
   "outputs": [
    {
     "name": "stdout",
     "output_type": "stream",
     "text": [
      "\n",
      "        mision a: callisto\n",
      "        tiempo de viaje: 152 minutos\n",
      "        combustible: 290000\n",
      "    tanque principal  -> 80000 litros restantes\n",
      "tanque secundario  -> 210000 litros restantes\n",
      "\n"
     ]
    }
   ],
   "source": [
    "def informeMision(destino ,*minutos, **reservaCombustible ):\n",
    "    reporte = f\"\"\"\n",
    "        mision a: {destino}\n",
    "        tiempo de viaje: {sum(minutos)} minutos\n",
    "        combustible: {sum(reservaCombustible.values())}\n",
    "    \"\"\"\n",
    "\n",
    "    for nombreTanque , litros in reservaCombustible.items():\n",
    "        reporte += f\"tanque {nombreTanque}  -> {litros} litros restantes\\n\"\n",
    "\n",
    "\n",
    "    return reporte\n",
    "\n",
    "print(informeMision('callisto', 20, 32, 100, principal=80000, secundario = 210000)) "
   ]
  }
 ],
 "metadata": {
  "interpreter": {
   "hash": "554fd1bf87c55553db41d45cf503b12b95d600ced243726a35b3e53f66c6f63f"
  },
  "kernelspec": {
   "display_name": "Python 3.10.2 64-bit",
   "language": "python",
   "name": "python3"
  },
  "language_info": {
   "codemirror_mode": {
    "name": "ipython",
    "version": 3
   },
   "file_extension": ".py",
   "mimetype": "text/x-python",
   "name": "python",
   "nbconvert_exporter": "python",
   "pygments_lexer": "ipython3",
   "version": "3.10.2"
  },
  "orig_nbformat": 4
 },
 "nbformat": 4,
 "nbformat_minor": 2
}
