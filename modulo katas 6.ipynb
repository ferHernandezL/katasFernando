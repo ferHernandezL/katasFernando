{
 "cells": [
  {
   "cell_type": "markdown",
   "metadata": {},
   "source": [
    "## modulos katas 6"
   ]
  },
  {
   "cell_type": "code",
   "execution_count": 1,
   "metadata": {},
   "outputs": [
    {
     "name": "stdout",
     "output_type": "stream",
     "text": [
      "['Mercurio', 'Venus', 'Tierra', 'Marte', 'Jupiter', 'Saturno', 'Urano', 'Neptuno']\n"
     ]
    }
   ],
   "source": [
    "planets = ['Mercurio','Venus','Tierra','Marte','Jupiter','Saturno','Urano','Neptuno']\n",
    "print(planets)"
   ]
  },
  {
   "cell_type": "code",
   "execution_count": 2,
   "metadata": {},
   "outputs": [
    {
     "name": "stdout",
     "output_type": "stream",
     "text": [
      "El ultimo planeta es:  Pluton\n",
      "hay  9  en el sistema solar\n"
     ]
    }
   ],
   "source": [
    "#agregando a pluton\n",
    "\n",
    "planets.append('Pluton')\n",
    "print(\"El ultimo planeta es: \",planets[8])\n",
    "numeroPlanetas = len(planets)\n",
    "print(\"hay \", numeroPlanetas,\" en el sistema solar\")"
   ]
  },
  {
   "cell_type": "markdown",
   "metadata": {},
   "source": [
    "## ejercicio 2"
   ]
  },
  {
   "cell_type": "code",
   "execution_count": 5,
   "metadata": {},
   "outputs": [
    {
     "name": "stdout",
     "output_type": "stream",
     "text": [
      "los planetas mas cercanos a  Marte  son\n",
      "['Mercurio', 'Venus', 'Tierra']\n"
     ]
    }
   ],
   "source": [
    "#planetas mas cercanos al sol\n",
    "\n",
    "planets = ['Mercurio','Venus','Tierra','Marte','Jupiter','Saturno','Urano','Neptuno']\n",
    "print(planets)\n",
    "planeta = input(\"ingresa el nombre de un planeta (comienza usando letra mayuscula)\")\n",
    "indicePlaneta = planets.index(planeta)\n",
    "print(\"los planetas mas cercanos a \", planeta ,\" son\" )\n",
    "print(planets [0:indicePlaneta])"
   ]
  },
  {
   "cell_type": "code",
   "execution_count": 6,
   "metadata": {},
   "outputs": [
    {
     "name": "stdout",
     "output_type": "stream",
     "text": [
      "Los planetas mas alejados a  Marte  son\n",
      "['Jupiter', 'Saturno', 'Urano', 'Neptuno']\n"
     ]
    }
   ],
   "source": [
    "# planetas mas alejados del sol\n",
    "\n",
    "print(\"Los planetas mas alejados a \", planeta, \" son\")\n",
    "print(planets[indicePlaneta +1:])"
   ]
  }
 ],
 "metadata": {
  "interpreter": {
   "hash": "554fd1bf87c55553db41d45cf503b12b95d600ced243726a35b3e53f66c6f63f"
  },
  "kernelspec": {
   "display_name": "Python 3.10.2 64-bit",
   "language": "python",
   "name": "python3"
  },
  "language_info": {
   "codemirror_mode": {
    "name": "ipython",
    "version": 3
   },
   "file_extension": ".py",
   "mimetype": "text/x-python",
   "name": "python",
   "nbconvert_exporter": "python",
   "pygments_lexer": "ipython3",
   "version": "3.10.2"
  },
  "orig_nbformat": 4
 },
 "nbformat": 4,
 "nbformat_minor": 2
}
