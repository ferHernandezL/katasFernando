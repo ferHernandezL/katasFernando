{
 "cells": [
  {
   "cell_type": "markdown",
   "metadata": {},
   "source": [
    "## modulo katas 5"
   ]
  },
  {
   "cell_type": "code",
   "execution_count": 22,
   "metadata": {},
   "outputs": [
    {
     "name": "stdout",
     "output_type": "stream",
     "text": [
      "628949330 km\n",
      "390577533.93 millas\n",
      "\n"
     ]
    }
   ],
   "source": [
    "# creando variables \n",
    "\n",
    "tierra = 149597870\n",
    "jupiter = 778547200\n",
    "\n",
    "distancia = (int(jupiter) - int(tierra))\n",
    "print(str(distancia) + \" km\")  \n",
    "\n",
    "# conviertiendo a millas \n",
    "\n",
    "distancia*=0.621\n",
    "print(str(distancia) + \" millas\")\n",
    "\n",
    "\n"
   ]
  },
  {
   "cell_type": "markdown",
   "metadata": {},
   "source": [
    "## ejercico 2"
   ]
  },
  {
   "cell_type": "code",
   "execution_count": 38,
   "metadata": {},
   "outputs": [
    {
     "name": "stdout",
     "output_type": "stream",
     "text": [
      "Planeta\tDistancia al sol\n",
      "Mercurio 57900000\n",
      "Venus\t108200000\n",
      "Tierra\t149600000\n",
      "Marte\t227900000\n",
      "Júpiter\t778600000\n",
      "Saturno\t1433500000\n",
      "Urano\t2872500000\n",
      "Neptuno\t4495100000\n",
      "\n",
      " la distancia entre planetas es:  33\n",
      "la distancia en millas es:  20.493\n"
     ]
    }
   ],
   "source": [
    "print(\"\"\"Planeta\tDistancia al sol\n",
    "Mercurio 57900000\n",
    "Venus\t108200000\n",
    "Tierra\t149600000\n",
    "Marte\t227900000\n",
    "Júpiter\t778600000\n",
    "Saturno\t1433500000\n",
    "Urano\t2872500000\n",
    "Neptuno\t4495100000\"\"\")\n",
    "\n",
    "planeta1 = int(input(\"ingresa la distancia del planeta 1\"))\n",
    "planeta2 = int(input(\"ingresa la distancia del planeta 2\"))\n",
    "print(\"\\n la distancia entre planetas es: \", abs(planeta1 - planeta2))\n",
    "print(\"la distancia en millas es: \", abs((planeta1 - planeta2)*0.621))\n"
   ]
  }
 ],
 "metadata": {
  "interpreter": {
   "hash": "554fd1bf87c55553db41d45cf503b12b95d600ced243726a35b3e53f66c6f63f"
  },
  "kernelspec": {
   "display_name": "Python 3.10.2 64-bit",
   "language": "python",
   "name": "python3"
  },
  "language_info": {
   "codemirror_mode": {
    "name": "ipython",
    "version": 3
   },
   "file_extension": ".py",
   "mimetype": "text/x-python",
   "name": "python",
   "nbconvert_exporter": "python",
   "pygments_lexer": "ipython3",
   "version": "3.10.2"
  },
  "orig_nbformat": 4
 },
 "nbformat": 4,
 "nbformat_minor": 2
}
