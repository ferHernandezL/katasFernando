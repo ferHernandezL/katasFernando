{
 "cells": [
  {
   "cell_type": "markdown",
   "metadata": {},
   "source": [
    "## modulo katas 8"
   ]
  },
  {
   "cell_type": "code",
   "execution_count": 7,
   "metadata": {},
   "outputs": [
    {
     "name": "stdout",
     "output_type": "stream",
     "text": [
      "mars tiene  2  lunas\n"
     ]
    }
   ],
   "source": [
    "#creando el doccionario\n",
    "\n",
    "planet = {\n",
    "    'name' : 'mars',\n",
    "    'moons' : 2\n",
    "\n",
    "}\n",
    "\n",
    "print(planet.get('name'), \"tiene \", planet.get('moons'), \" lunas\")"
   ]
  },
  {
   "cell_type": "markdown",
   "metadata": {},
   "source": [
    "## creando un diccionario dentro de otro"
   ]
  },
  {
   "cell_type": "code",
   "execution_count": 12,
   "metadata": {},
   "outputs": [
    {
     "name": "stdout",
     "output_type": "stream",
     "text": [
      "mars tiene una circunferencia polar de: 6752\n"
     ]
    }
   ],
   "source": [
    "planet['circunferencia (km) '] = {\n",
    "    'polar' : 6752,\n",
    "    'equatorial' : 6792\n",
    "}\n",
    "\n",
    "#se imprime el planeta con su circunferencia polar\n",
    "\n",
    "print(f\"{planet['name']} tiene una circunferencia polar de: {planet['circunferencia (km) ']['polar']}\")"
   ]
  },
  {
   "cell_type": "markdown",
   "metadata": {},
   "source": [
    "## calculando lunas"
   ]
  },
  {
   "cell_type": "code",
   "execution_count": 2,
   "metadata": {},
   "outputs": [
    {
     "name": "stdout",
     "output_type": "stream",
     "text": [
      "17.833333333333332\n"
     ]
    }
   ],
   "source": [
    "planet_moons = {\n",
    "    'mercury': 0,\n",
    "    'venus': 0,\n",
    "    'earth': 1,\n",
    "    'mars': 2,\n",
    "    'jupiter': 79,\n",
    "    'saturn': 82,\n",
    "    'uranus': 27,\n",
    "    'neptune': 14,\n",
    "    'pluto': 5,\n",
    "    'haumea': 2,\n",
    "    'makemake': 1,\n",
    "    'eris': 1\n",
    "}\n",
    "\n",
    "# obteniendo los valores del diccionario\n",
    "moons = planet_moons.values() \n",
    "\n",
    "# obteniendo las llaves del diccionario\n",
    "planets = len(planet_moons.keys())\n",
    "\n",
    "total_moons=0\n",
    "\n",
    "for moon in moons :\n",
    "    total_moons = total_moons + moon    \n",
    "\n",
    "\n",
    "promedio = total_moons/planets\n",
    "\n",
    "print(promedio)\n"
   ]
  }
 ],
 "metadata": {
  "interpreter": {
   "hash": "554fd1bf87c55553db41d45cf503b12b95d600ced243726a35b3e53f66c6f63f"
  },
  "kernelspec": {
   "display_name": "Python 3.10.2 64-bit",
   "language": "python",
   "name": "python3"
  },
  "language_info": {
   "codemirror_mode": {
    "name": "ipython",
    "version": 3
   },
   "file_extension": ".py",
   "mimetype": "text/x-python",
   "name": "python",
   "nbconvert_exporter": "python",
   "pygments_lexer": "ipython3",
   "version": "3.10.2"
  },
  "orig_nbformat": 4
 },
 "nbformat": 4,
 "nbformat_minor": 2
}
